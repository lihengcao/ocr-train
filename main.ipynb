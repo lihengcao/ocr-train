{
 "cells": [
  {
   "cell_type": "code",
   "execution_count": 72,
   "metadata": {},
   "outputs": [],
   "source": [
    "import torch\n",
    "import matplotlib.pyplot as plt\n",
    "\n",
    "from PIL import Image\n",
    "from torchvision import datasets\n",
    "from typing import Any"
   ]
  },
  {
   "cell_type": "code",
   "execution_count": 5,
   "metadata": {},
   "outputs": [
    {
     "data": {
      "text/plain": [
       "tensor([0, 1, 2, 3, 4])"
      ]
     },
     "execution_count": 5,
     "metadata": {},
     "output_type": "execute_result"
    }
   ],
   "source": [
    "# np.arange(5)\n",
    "torch.arange(5)"
   ]
  },
  {
   "cell_type": "code",
   "execution_count": 9,
   "metadata": {},
   "outputs": [
    {
     "name": "stdout",
     "output_type": "stream",
     "text": [
      "EMNIST\n",
      "FashionMNIST\n",
      "KMNIST\n",
      "MNIST\n",
      "MovingMNIST\n",
      "QMNIST\n",
      "mnist\n",
      "moving_mnist\n"
     ]
    }
   ],
   "source": [
    "a = dir(datasets)\n",
    "\n",
    "for text in a:\n",
    "    if \"mnist\" in text.lower():\n",
    "        print(text)"
   ]
  },
  {
   "cell_type": "code",
   "execution_count": 79,
   "metadata": {},
   "outputs": [
    {
     "name": "stdout",
     "output_type": "stream",
     "text": [
      "Dataset EMNIST\n",
      "    Number of datapoints: 697932\n",
      "    Root location: ./dataset/\n",
      "    Split: Train\n",
      "    StandardTransform\n",
      "Transform: <function TRANSFORM_CALLABLE at 0x7f83c5418670>\n",
      "Dataset EMNIST\n",
      "    Number of datapoints: 116323\n",
      "    Root location: ./dataset/\n",
      "    Split: Test\n",
      "    StandardTransform\n",
      "Transform: <function TRANSFORM_CALLABLE at 0x7f83c5418670>\n"
     ]
    }
   ],
   "source": [
    "ROOT_DIR = \"./dataset/\"\n",
    "SPLIT_DATA_BY = \"bymerge\"  # merges letters that have similar upper and lower cases, like C vs c and O vs o. \n",
    "\n",
    "def TRANSFORM_CALLABLE(img: Image.Image) -> Any:\n",
    "    return img.transpose(Image.TRANSPOSE)\n",
    "\n",
    "\n",
    "training_data = datasets.EMNIST(root=ROOT_DIR, split=SPLIT_DATA_BY, train=True, download=True, transform=TRANSFORM_CALLABLE)\n",
    "test_data = datasets.EMNIST(ROOT_DIR, split=SPLIT_DATA_BY, train=False, download=True, transform=TRANSFORM_CALLABLE)\n",
    "\n",
    "print(training_data)\n",
    "print(test_data)"
   ]
  },
  {
   "cell_type": "code",
   "execution_count": 80,
   "metadata": {},
   "outputs": [
    {
     "name": "stdout",
     "output_type": "stream",
     "text": [
      "<class 'PIL.Image.Image'>\n"
     ]
    },
    {
     "data": {
      "image/png": "[encoded data removed]",
      "text/plain": [
       "<Figure size 640x480 with 1 Axes>"
      ]
     },
     "metadata": {},
     "output_type": "display_data"
    },
    {
     "name": "stdout",
     "output_type": "stream",
     "text": [
      "<class 'PIL.Image.Image'>\n"
     ]
    },
    {
     "data": {
      "image/png": "[encoded data removed]",
      "text/plain": [
       "<Figure size 640x480 with 1 Axes>"
      ]
     },
     "metadata": {},
     "output_type": "display_data"
    },
    {
     "name": "stdout",
     "output_type": "stream",
     "text": [
      "<class 'PIL.Image.Image'>\n"
     ]
    },
    {
     "data": {
      "image/png": "[encoded data removed]",
      "text/plain": [
       "<Figure size 640x480 with 1 Axes>"
      ]
     },
     "metadata": {},
     "output_type": "display_data"
    }
   ],
   "source": [
    "for i in range(3):\n",
    "    rand_ind = torch.randint(len(training_data), size=(1,)).item()\n",
    "    assert isinstance(rand_ind, int)\n",
    "\n",
    "    img, label = training_data[rand_ind]\n",
    "    img_class = training_data.classes[label]\n",
    "    print(type(img))\n",
    "\n",
    "    plt.imshow(img, cmap=\"gray\")\n",
    "    plt.title(img_class)\n",
    "    plt.axis(\"off\")\n",
    "    plt.show()\n"
   ]
  }
 ],
 "metadata": {
  "kernelspec": {
   "display_name": "ocr-train-cWreNkmb",
   "language": "python",
   "name": "python3"
  },
  "language_info": {
   "codemirror_mode": {
    "name": "ipython",
    "version": 3
   },
   "file_extension": ".py",
   "mimetype": "text/x-python",
   "name": "python",
   "nbconvert_exporter": "python",
   "pygments_lexer": "ipython3",
   "version": "3.10.12"
  }
 },
 "nbformat": 4,
 "nbformat_minor": 2
}
