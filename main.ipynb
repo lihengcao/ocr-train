{
 "cells": [
  {
   "cell_type": "code",
   "execution_count": null,
   "metadata": {},
   "outputs": [],
   "source": [
    "import matplotlib.pyplot as plt\n",
    "import torch\n",
    "import torch.nn as nn\n",
    "from PIL import Image\n",
    "from torch.utils.data import DataLoader\n",
    "from torchvision import datasets\n",
    "from torchvision.transforms import ToTensor"
   ]
  },
  {
   "cell_type": "code",
   "execution_count": null,
   "metadata": {},
   "outputs": [],
   "source": [
    "a = dir(datasets)\n",
    "\n",
    "for text in a:\n",
    "    if \"mnist\" in text.lower():\n",
    "        print(text)"
   ]
  },
  {
   "cell_type": "code",
   "execution_count": null,
   "metadata": {},
   "outputs": [],
   "source": [
    "ROOT_DIR = \"./dataset/\"\n",
    "\n",
    "# merges letters that have similar upper and lower cases, like C:c and W:w\n",
    "SPLIT_DATA_BY = \"bymerge\"\n",
    "\n",
    "\n",
    "def TRANSFORM_CALLABLE(img: Image.Image) -> torch.Tensor:\n",
    "    return ToTensor()(img.transpose(Image.TRANSPOSE))\n",
    "\n",
    "training_data = datasets.EMNIST(root=ROOT_DIR, split=SPLIT_DATA_BY, train=True, download=True, transform=TRANSFORM_CALLABLE)\n",
    "testing_data = datasets.EMNIST(ROOT_DIR, split=SPLIT_DATA_BY, train=False, download=True, transform=TRANSFORM_CALLABLE)\n",
    "\n",
    "print(training_data)\n",
    "print(testing_data)"
   ]
  },
  {
   "cell_type": "code",
   "execution_count": null,
   "metadata": {},
   "outputs": [],
   "source": [
    "for i in range(3):\n",
    "    rand_ind = torch.randint(len(training_data), size=(1,)).item()\n",
    "    assert isinstance(rand_ind, int)\n",
    "\n",
    "    img, label = training_data[rand_ind]\n",
    "    img_class = training_data.classes[label]\n",
    "    \n",
    "    assert isinstance(img, torch.Tensor) and img.shape == (1, 28, 28)\n",
    "\n",
    "    plt.imshow(img[0], cmap=\"gray\")\n",
    "    plt.title(img_class)\n",
    "    plt.axis(\"off\")\n",
    "    plt.show()\n"
   ]
  },
  {
   "cell_type": "code",
   "execution_count": null,
   "metadata": {},
   "outputs": [],
   "source": [
    "BATCH_SIZE = 64\n",
    "\n",
    "training_dataloader = DataLoader(training_data, batch_size=BATCH_SIZE)\n",
    "testing_dataloader = DataLoader(testing_data, batch_size=BATCH_SIZE)\n",
    "\n",
    "X, y = next(iter(testing_dataloader))\n",
    "\n",
    "print(X.shape, X.dtype)\n",
    "print(y.shape, y.dtype)"
   ]
  },
  {
   "cell_type": "code",
   "execution_count": null,
   "metadata": {},
   "outputs": [],
   "source": [
    "device = \"cuda\" if torch.cuda.is_available() else \"cpu\"\n",
    "print(f\"Using {device} device\")"
   ]
  },
  {
   "cell_type": "code",
   "execution_count": null,
   "metadata": {},
   "outputs": [],
   "source": [
    "class TheModel(nn.Module):\n",
    "    def __init__(self, output_dim):\n",
    "        super().__init__() \n",
    "        self.sequential = nn.Sequential(\n",
    "            nn.Conv2d(1, 16, 5, 2, 1),\n",
    "            nn.ReLU(),\n",
    "            # nn.BatchNorm2d(16),\n",
    "            # nn.MaxPool2d(2),\n",
    "\n",
    "            nn.Conv2d(16, 16, 5, 2, 1),\n",
    "            nn.ReLU(),\n",
    "            # nn.BatchNorm2d(16),\n",
    "            # nn.MaxPool2d(2),\n",
    "\n",
    "            # nn.Conv2d(16, 16, 3, 2, 1),\n",
    "            # nn.ReLU(),\n",
    "            # nn.BatchNorm2d(16),\n",
    "            # nn.MaxPool2d(2),\n",
    "\n",
    "            # nn.MaxPool2d(2),\n",
    "            nn.Flatten(),\n",
    "            nn.Linear(576, output_dim),\n",
    "            nn.LogSoftmax(1),\n",
    "        )\n",
    "\n",
    "    def forward(self, x):\n",
    "        return self.sequential(x)\n",
    "\n",
    "\n",
    "model = TheModel(len(training_data.classes)).to(device)\n",
    "print(model)\n"
   ]
  },
  {
   "cell_type": "code",
   "execution_count": null,
   "metadata": {},
   "outputs": [],
   "source": [
    "loss_func = nn.NLLLoss()\n",
    "optimizer = torch.optim.SGD(model.parameters(), lr= 1e-3, momentum=0.9)\n",
    "\n",
    "def train(dataloader, model, loss_func, optimizer):\n",
    "    N = len(dataloader.dataset)\n",
    "    model.train()\n",
    "\n",
    "    for ind_batch, (X, y) in enumerate(dataloader):\n",
    "        X, y = X.to(device), y.to(device)\n",
    "\n",
    "        forward = model(X)\n",
    "        loss = loss_func(forward, y)\n",
    "\n",
    "        loss.backward()\n",
    "        optimizer.step()\n",
    "        optimizer.zero_grad()\n",
    "\n",
    "        if ind_batch % 100 == 0:\n",
    "            loss_val, current = loss.item(), (ind_batch + 1) * len(X)\n",
    "            print(f\"loss: {loss_val:>7f}  {current:>5d}/{N:>5d}\")\n",
    "\n",
    "\n",
    "def test(dataloader, model, loss_func):\n",
    "    N = len(dataloader.dataset)\n",
    "    average_loss, correct = 0, 0\n",
    "    model.eval()\n",
    "    with torch.no_grad():\n",
    "        for X, y in dataloader:\n",
    "            X, y = X.to(device), y.to(device)\n",
    "\n",
    "            inference = model(X)\n",
    "            average_loss += loss_func(inference, y).item()\n",
    "            correct += (inference.argmax(1) == y).sum().item()\n",
    "    \n",
    "    average_loss /= len(dataloader)\n",
    "    correct /= N\n",
    "\n",
    "    print(f\"% correct: {(100 * correct):>0.1f}  avg loss: {average_loss:>7f}\")"
   ]
  },
  {
   "cell_type": "code",
   "execution_count": null,
   "metadata": {},
   "outputs": [],
   "source": [
    "EPOCHS = 10\n",
    "for ep in range(EPOCHS):\n",
    "    print(f\"Epoch {ep}\\n---\")\n",
    "    train(training_dataloader, model, loss_func, optimizer)\n",
    "    test(testing_dataloader, model, loss_func)"
   ]
  },
  {
   "cell_type": "code",
   "execution_count": null,
   "metadata": {},
   "outputs": [],
   "source": [
    "torch.save(model.state_dict(), \"weights (simpler model).pt\")"
   ]
  },
  {
   "cell_type": "code",
   "execution_count": null,
   "metadata": {},
   "outputs": [],
   "source": [
    "model = TheModel(len(training_data.classes))\n",
    "model.load_state_dict(torch.load(\"weights (simpler model).pt\"))\n",
    "test(testing_dataloader, model.to(\"cuda\"), loss_func)"
   ]
  },
  {
   "cell_type": "code",
   "execution_count": null,
   "metadata": {},
   "outputs": [],
   "source": [
    "model = model.to(\"cpu\")\n",
    "\n",
    "model.eval()\n",
    "empty_input = torch.zeros(1, 1, 28, 28).to(\"cpu\")\n",
    "\n",
    "torch.onnx.export(model, empty_input, \"onnx_model.onnx\", verbose=True)\n"
   ]
  }
 ],
 "metadata": {
  "kernelspec": {
   "display_name": "ocr-train-cWreNkmb",
   "language": "python",
   "name": "python3"
  },
  "language_info": {
   "codemirror_mode": {
    "name": "ipython",
    "version": 3
   },
   "file_extension": ".py",
   "mimetype": "text/x-python",
   "name": "python",
   "nbconvert_exporter": "python",
   "pygments_lexer": "ipython3",
   "version": "3.10.12"
  }
 },
 "nbformat": 4,
 "nbformat_minor": 2
}
